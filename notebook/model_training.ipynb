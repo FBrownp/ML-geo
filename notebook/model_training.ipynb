{
 "cells": [
  {
   "cell_type": "markdown",
   "metadata": {},
   "source": [
    "# Model training notebook"
   ]
  },
  {
   "cell_type": "markdown",
   "metadata": {},
   "source": [
    "### Import the important packages"
   ]
  },
  {
   "cell_type": "code",
   "execution_count": 44,
   "metadata": {},
   "outputs": [],
   "source": [
    "import pandas as pd\n",
    "import seaborn as sns\n",
    "import numpy as np\n",
    "\n",
    "from sklearn.pipeline import Pipeline\n",
    "from sklearn.preprocessing import StandardScaler,PolynomialFeatures\n",
    "from sklearn.model_selection import GridSearchCV, train_test_split\n",
    "\n",
    "import tensorflow as tf\n",
    "from tensorflow.keras.models import Sequential\n",
    "from tensorflow.keras.layers import Dense, Dropout\n",
    "from tensorflow.keras.callbacks import EarlyStopping\n",
    "from scikeras.wrappers import KerasRegressor\n",
    "\n",
    "import joblib"
   ]
  },
  {
   "cell_type": "markdown",
   "metadata": {},
   "source": [
    "### Import the data"
   ]
  },
  {
   "cell_type": "code",
   "execution_count": 11,
   "metadata": {},
   "outputs": [
    {
     "data": {
      "text/html": [
       "<div>\n",
       "<style scoped>\n",
       "    .dataframe tbody tr th:only-of-type {\n",
       "        vertical-align: middle;\n",
       "    }\n",
       "\n",
       "    .dataframe tbody tr th {\n",
       "        vertical-align: top;\n",
       "    }\n",
       "\n",
       "    .dataframe thead th {\n",
       "        text-align: right;\n",
       "    }\n",
       "</style>\n",
       "<table border=\"1\" class=\"dataframe\">\n",
       "  <thead>\n",
       "    <tr style=\"text-align: right;\">\n",
       "      <th></th>\n",
       "      <th>Material 1 : Cohesion (kN/m2)</th>\n",
       "      <th>Material 1 : Phi (deg)</th>\n",
       "      <th>Material 1 : Unit Weight (kN/m3)</th>\n",
       "      <th>Load #1 Magnitude (kN/m)</th>\n",
       "      <th>Load #2 Magnitude (kN/m)</th>\n",
       "      <th>Factor of Safety - spencer</th>\n",
       "      <th>Factor of Safety - gle/morgenstern-price</th>\n",
       "      <th>slope_angle</th>\n",
       "      <th>slope_height</th>\n",
       "    </tr>\n",
       "  </thead>\n",
       "  <tbody>\n",
       "    <tr>\n",
       "      <th>0</th>\n",
       "      <td>9.25214</td>\n",
       "      <td>27.0344</td>\n",
       "      <td>16.2721</td>\n",
       "      <td>25.7109</td>\n",
       "      <td>0.651980</td>\n",
       "      <td>2.35577</td>\n",
       "      <td>2.35758</td>\n",
       "      <td>30.0</td>\n",
       "      <td>3.0</td>\n",
       "    </tr>\n",
       "    <tr>\n",
       "      <th>1</th>\n",
       "      <td>12.84510</td>\n",
       "      <td>13.9206</td>\n",
       "      <td>16.3404</td>\n",
       "      <td>17.2906</td>\n",
       "      <td>0.615234</td>\n",
       "      <td>2.04328</td>\n",
       "      <td>2.04351</td>\n",
       "      <td>30.0</td>\n",
       "      <td>3.0</td>\n",
       "    </tr>\n",
       "    <tr>\n",
       "      <th>2</th>\n",
       "      <td>10.36260</td>\n",
       "      <td>30.1019</td>\n",
       "      <td>15.2261</td>\n",
       "      <td>89.1311</td>\n",
       "      <td>0.439082</td>\n",
       "      <td>1.79361</td>\n",
       "      <td>1.79468</td>\n",
       "      <td>30.0</td>\n",
       "      <td>3.0</td>\n",
       "    </tr>\n",
       "    <tr>\n",
       "      <th>3</th>\n",
       "      <td>8.00854</td>\n",
       "      <td>27.3663</td>\n",
       "      <td>14.5454</td>\n",
       "      <td>81.8012</td>\n",
       "      <td>0.598084</td>\n",
       "      <td>1.58966</td>\n",
       "      <td>1.59232</td>\n",
       "      <td>30.0</td>\n",
       "      <td>3.0</td>\n",
       "    </tr>\n",
       "    <tr>\n",
       "      <th>4</th>\n",
       "      <td>12.31330</td>\n",
       "      <td>40.8389</td>\n",
       "      <td>19.4886</td>\n",
       "      <td>75.3521</td>\n",
       "      <td>0.664819</td>\n",
       "      <td>2.75823</td>\n",
       "      <td>2.76120</td>\n",
       "      <td>30.0</td>\n",
       "      <td>3.0</td>\n",
       "    </tr>\n",
       "  </tbody>\n",
       "</table>\n",
       "</div>"
      ],
      "text/plain": [
       "   Material 1 : Cohesion (kN/m2)  Material 1 : Phi (deg)  \\\n",
       "0                        9.25214                 27.0344   \n",
       "1                       12.84510                 13.9206   \n",
       "2                       10.36260                 30.1019   \n",
       "3                        8.00854                 27.3663   \n",
       "4                       12.31330                 40.8389   \n",
       "\n",
       "   Material 1 : Unit Weight (kN/m3)  Load #1 Magnitude (kN/m)  \\\n",
       "0                           16.2721                   25.7109   \n",
       "1                           16.3404                   17.2906   \n",
       "2                           15.2261                   89.1311   \n",
       "3                           14.5454                   81.8012   \n",
       "4                           19.4886                   75.3521   \n",
       "\n",
       "   Load #2 Magnitude (kN/m)  Factor of Safety - spencer  \\\n",
       "0                  0.651980                     2.35577   \n",
       "1                  0.615234                     2.04328   \n",
       "2                  0.439082                     1.79361   \n",
       "3                  0.598084                     1.58966   \n",
       "4                  0.664819                     2.75823   \n",
       "\n",
       "   Factor of Safety - gle/morgenstern-price  slope_angle  slope_height  \n",
       "0                                   2.35758         30.0           3.0  \n",
       "1                                   2.04351         30.0           3.0  \n",
       "2                                   1.79468         30.0           3.0  \n",
       "3                                   1.59232         30.0           3.0  \n",
       "4                                   2.76120         30.0           3.0  "
      ]
     },
     "execution_count": 11,
     "metadata": {},
     "output_type": "execute_result"
    }
   ],
   "source": [
    "df_data = pd.read_csv(\"main_data.csv\")\n",
    "df_data.drop(\"Unnamed: 0\",axis = 1,inplace=True)\n",
    "df_data.head()"
   ]
  },
  {
   "cell_type": "markdown",
   "metadata": {},
   "source": [
    "#### Creating <b>x_data</b> and <b>y_data</b>"
   ]
  },
  {
   "cell_type": "code",
   "execution_count": 21,
   "metadata": {},
   "outputs": [],
   "source": [
    "x_data_1    = df_data.iloc[:,[0,1,2,3,4,7,8]]\n",
    "y_data_1    = df_data.iloc[:,[5,6]]\n"
   ]
  },
  {
   "cell_type": "markdown",
   "metadata": {},
   "source": [
    "#### Selecting just $FS < 3$, because just in this range the predictions are important as adviced by engineers"
   ]
  },
  {
   "cell_type": "code",
   "execution_count": 22,
   "metadata": {},
   "outputs": [],
   "source": [
    "x_data_1    = x_data_1[y_data_1.iloc[:,0] < 3]\n",
    "y_data_1    = y_data_1[y_data_1.iloc[:,0] < 3]"
   ]
  },
  {
   "cell_type": "markdown",
   "metadata": {},
   "source": [
    "#### Definition of Tensorflow ANN Pipeline"
   ]
  },
  {
   "cell_type": "code",
   "execution_count": 23,
   "metadata": {},
   "outputs": [],
   "source": [
    "# Define input as X and output as Y\n",
    "\n",
    "\n",
    "X_train, X_test, y_train, y_test = train_test_split(x_data_1,y_data_1.iloc[:,0], test_size=0.3, random_state=42)\n",
    "\n",
    "# Function to create keras neural network and use it in scikeras wrapper\n",
    "\n",
    "def create_model(optimizer = \"RMSprop\", drop_rate = 0.1, neurons = 10, l1 = 0.01, l2 =0.01):\n",
    " # create model\n",
    "    model = Sequential()\n",
    "\n",
    "    model.add(Dense(neurons,input_dim = 7, activation=\"relu\",kernel_regularizer = tf.keras.regularizers.L1L2(l1=l1, l2=l2)))\n",
    "    model.add(Dropout(drop_rate))\n",
    "    model.add(Dense(neurons, activation=\"relu\"))\n",
    "    model.add(Dropout(drop_rate))\n",
    "    model.add(Dense(neurons, activation='relu'))\n",
    "\n",
    "    model.add(Dense(1))\n",
    "\n",
    "    # Compile model\n",
    "    model.compile(loss= \"MSE\", optimizer= optimizer, metrics=['MAPE'])\n",
    "    return model\n",
    "\n",
    "\n",
    "# fix random seed for reproducibility\n",
    "seed = 7\n",
    "tf.random.set_seed(seed)\n",
    "callback = EarlyStopping(monitor='loss', patience=5)\n",
    "\n",
    "# Definition of the keras wrapper model with callback for early stop\n",
    "Ann_regressor = KerasRegressor(model=create_model, verbose=0, callbacks=[callback])\n",
    "\n",
    "# Definition of pipeline\n",
    "Reg_pipeline = Pipeline([\n",
    "                        (\"scale\", StandardScaler()),\n",
    "                        (\"Regressor\", Ann_regressor)])"
   ]
  },
  {
   "cell_type": "markdown",
   "metadata": {},
   "source": [
    "#### Using pipeline to hyperparameter optimization using <b>SearchGridCV</b>"
   ]
  },
  {
   "cell_type": "code",
   "execution_count": 24,
   "metadata": {},
   "outputs": [],
   "source": [
    "batch_size = [20]\n",
    "epochs = [60]\n",
    "optimizer = [\"RMSprop\"]\n",
    "validation_split = [0.3]\n",
    "neurons = [64]\n",
    "drop_rate = [0.1]\n",
    "l1l2 = [0.02]\n",
    "\n",
    "# Definition of input for grid_search in dictionary format\n",
    "\n",
    "param_grid = dict(Regressor__batch_size=batch_size,\n",
    "                  Regressor__epochs=epochs,\n",
    "                  Regressor__optimizer = optimizer,\n",
    "                  Regressor__model__drop_rate = drop_rate,\n",
    "                  Regressor__model__neurons = neurons,\n",
    "                  Regressor__model__l1 = l1l2,\n",
    "                  Regressor__model__l2 = l1l2,\n",
    "                  Regressor__validation_split = validation_split)\n",
    "\n",
    "# Grid creation\n",
    "grid = GridSearchCV(estimator=Reg_pipeline, param_grid=param_grid, n_jobs=4, cv=5)\n"
   ]
  },
  {
   "cell_type": "markdown",
   "metadata": {},
   "source": [
    "#### <b>Model.fit()<b>"
   ]
  },
  {
   "cell_type": "code",
   "execution_count": 25,
   "metadata": {},
   "outputs": [],
   "source": [
    "modelb1 = grid.fit(X_train, y_train)"
   ]
  },
  {
   "cell_type": "markdown",
   "metadata": {},
   "source": [
    "#### Review the results from <b>SearchGridCV</b>"
   ]
  },
  {
   "cell_type": "code",
   "execution_count": 16,
   "metadata": {},
   "outputs": [
    {
     "data": {
      "text/html": [
       "<div>\n",
       "<style scoped>\n",
       "    .dataframe tbody tr th:only-of-type {\n",
       "        vertical-align: middle;\n",
       "    }\n",
       "\n",
       "    .dataframe tbody tr th {\n",
       "        vertical-align: top;\n",
       "    }\n",
       "\n",
       "    .dataframe thead th {\n",
       "        text-align: right;\n",
       "    }\n",
       "</style>\n",
       "<table border=\"1\" class=\"dataframe\">\n",
       "  <thead>\n",
       "    <tr style=\"text-align: right;\">\n",
       "      <th></th>\n",
       "      <th>mean_fit_time</th>\n",
       "      <th>std_fit_time</th>\n",
       "      <th>mean_score_time</th>\n",
       "      <th>std_score_time</th>\n",
       "      <th>param_Regressor__batch_size</th>\n",
       "      <th>param_Regressor__epochs</th>\n",
       "      <th>param_Regressor__model__drop_rate</th>\n",
       "      <th>param_Regressor__model__l1</th>\n",
       "      <th>param_Regressor__model__l2</th>\n",
       "      <th>param_Regressor__model__neurons</th>\n",
       "      <th>...</th>\n",
       "      <th>param_Regressor__validation_split</th>\n",
       "      <th>params</th>\n",
       "      <th>split0_test_score</th>\n",
       "      <th>split1_test_score</th>\n",
       "      <th>split2_test_score</th>\n",
       "      <th>split3_test_score</th>\n",
       "      <th>split4_test_score</th>\n",
       "      <th>mean_test_score</th>\n",
       "      <th>std_test_score</th>\n",
       "      <th>rank_test_score</th>\n",
       "    </tr>\n",
       "  </thead>\n",
       "  <tbody>\n",
       "    <tr>\n",
       "      <th>0</th>\n",
       "      <td>256.608262</td>\n",
       "      <td>33.327867</td>\n",
       "      <td>1.942633</td>\n",
       "      <td>0.493419</td>\n",
       "      <td>20</td>\n",
       "      <td>60</td>\n",
       "      <td>0.1</td>\n",
       "      <td>0.02</td>\n",
       "      <td>0.02</td>\n",
       "      <td>64</td>\n",
       "      <td>...</td>\n",
       "      <td>0.3</td>\n",
       "      <td>{'Regressor__batch_size': 20, 'Regressor__epoc...</td>\n",
       "      <td>0.827125</td>\n",
       "      <td>0.806178</td>\n",
       "      <td>0.901653</td>\n",
       "      <td>0.790484</td>\n",
       "      <td>0.766752</td>\n",
       "      <td>0.818439</td>\n",
       "      <td>0.046051</td>\n",
       "      <td>1</td>\n",
       "    </tr>\n",
       "  </tbody>\n",
       "</table>\n",
       "<p>1 rows × 21 columns</p>\n",
       "</div>"
      ],
      "text/plain": [
       "   mean_fit_time  std_fit_time  mean_score_time  std_score_time  \\\n",
       "0     256.608262     33.327867         1.942633        0.493419   \n",
       "\n",
       "  param_Regressor__batch_size param_Regressor__epochs  \\\n",
       "0                          20                      60   \n",
       "\n",
       "  param_Regressor__model__drop_rate param_Regressor__model__l1  \\\n",
       "0                               0.1                       0.02   \n",
       "\n",
       "  param_Regressor__model__l2 param_Regressor__model__neurons  ...  \\\n",
       "0                       0.02                              64  ...   \n",
       "\n",
       "  param_Regressor__validation_split  \\\n",
       "0                               0.3   \n",
       "\n",
       "                                              params split0_test_score  \\\n",
       "0  {'Regressor__batch_size': 20, 'Regressor__epoc...          0.827125   \n",
       "\n",
       "   split1_test_score  split2_test_score  split3_test_score  split4_test_score  \\\n",
       "0           0.806178           0.901653           0.790484           0.766752   \n",
       "\n",
       "   mean_test_score  std_test_score  rank_test_score  \n",
       "0         0.818439        0.046051                1  \n",
       "\n",
       "[1 rows x 21 columns]"
      ]
     },
     "execution_count": 16,
     "metadata": {},
     "output_type": "execute_result"
    }
   ],
   "source": [
    "pd.DataFrame(modelb1.cv_results_)"
   ]
  },
  {
   "cell_type": "markdown",
   "metadata": {},
   "source": [
    "#### Calculate $R^2$ and plot <b>y_train</b> $vs$ <b>y_pred</b>"
   ]
  },
  {
   "cell_type": "code",
   "execution_count": 18,
   "metadata": {},
   "outputs": [
    {
     "name": "stdout",
     "output_type": "stream",
     "text": [
      "0.8935884069940184\n"
     ]
    },
    {
     "data": {
      "text/plain": [
       "<Axes: xlabel='Factor of Safety - spencer'>"
      ]
     },
     "execution_count": 18,
     "metadata": {},
     "output_type": "execute_result"
    },
    {
     "data": {
      "image/png": "[encoded data removed]",
      "text/plain": [
       "<Figure size 640x480 with 1 Axes>"
      ]
     },
     "metadata": {},
     "output_type": "display_data"
    }
   ],
   "source": [
    "from sklearn.metrics import r2_score\n",
    "print(r2_score(y_test,modelb1.best_estimator_.predict(X_test)))\n",
    "ax = sns.regplot(x = y_test , y = modelb1.best_estimator_.predict(X_test))\n",
    "ax.set(xlabel = r\"$y_{test}$\", ylabel = r\"y_{pred}\")"
   ]
  },
  {
   "cell_type": "markdown",
   "metadata": {},
   "source": [
    "#### Save the best model from grid"
   ]
  },
  {
   "cell_type": "code",
   "execution_count": 26,
   "metadata": {},
   "outputs": [
    {
     "name": "stdout",
     "output_type": "stream",
     "text": [
      "INFO:tensorflow:Assets written to: C:\\Users\\fbrow\\AppData\\Local\\Temp\\tmpn8xmprkb\\assets\n"
     ]
    },
    {
     "name": "stderr",
     "output_type": "stream",
     "text": [
      "INFO:tensorflow:Assets written to: C:\\Users\\fbrow\\AppData\\Local\\Temp\\tmpn8xmprkb\\assets\n"
     ]
    },
    {
     "data": {
      "text/plain": [
       "['Ann_model_slopes']"
      ]
     },
     "execution_count": 26,
     "metadata": {},
     "output_type": "execute_result"
    }
   ],
   "source": [
    "joblib.dump(modelb1.best_estimator_, \"Ann_model_slopes\")\n"
   ]
  },
  {
   "cell_type": "markdown",
   "metadata": {},
   "source": [
    "#### Try Xgboost model for regression with polynomial features"
   ]
  },
  {
   "cell_type": "code",
   "execution_count": 39,
   "metadata": {},
   "outputs": [],
   "source": [
    "import xgboost as xgb\n",
    "\n",
    "\n",
    "X_train, X_test , y_train, y_test = train_test_split(x_data_1,y_data_1.iloc[:,0], test_size=0.3, random_state=42)\n",
    "# X_train, X_test, y_train, y_test = train_test_split(X_train,y_train, test_size=0.3, random_state=42)\n",
    "\n",
    "\n",
    "Reg_pipeline = Pipeline([\n",
    "                        (\"scale1\", StandardScaler()),\n",
    "                        (\"scale2\", PolynomialFeatures(degree=3)),\n",
    "                        (\"Regressor\", xgb.XGBRegressor(booster=\"gblinear\",validation_split = 0.3))])\n",
    "\n",
    "\n",
    "# model = Reg_pipeline.fit(X,Y[\"beta1\"])\n",
    "param_grid = {\"Regressor__n_estimators\":[800],\n",
    "              \"Regressor__reg_alpha\" : [0.01],\n",
    "              \"Regressor__reg_lambda\" : [0.03],\n",
    "              \"Regressor__eval_metric\" : [\"rmse\"],\n",
    "            #   \"Regressor__max_depth\" : [3],\n",
    "              \"Regressor__eta\" : [0.3],\n",
    "              \"Regressor__seed\" : [0]}\n",
    "\n",
    "\n",
    "# Grid creation\n",
    "grid = GridSearchCV(estimator=Reg_pipeline, param_grid=param_grid, n_jobs=5, cv=5)\n",
    "# grid = RandomizedSearchCV(estimator=Reg_pipeline, param_distributions=param_grid, n_jobs=5, cv=5, n_iter=1)\n"
   ]
  },
  {
   "cell_type": "markdown",
   "metadata": {},
   "source": [
    "#### Xgboost <b>grid.fit()</b>"
   ]
  },
  {
   "cell_type": "code",
   "execution_count": 40,
   "metadata": {},
   "outputs": [
    {
     "name": "stderr",
     "output_type": "stream",
     "text": [
      "e:\\Trade\\TradeEnv2\\Lib\\site-packages\\xgboost\\core.py:160: UserWarning: [10:22:32] WARNING: C:\\buildkite-agent\\builds\\buildkite-windows-cpu-autoscaling-group-i-0750514818a16474a-1\\xgboost\\xgboost-ci-windows\\src\\learner.cc:742: \n",
      "Parameters: { \"validation_split\" } are not used.\n",
      "\n",
      "  warnings.warn(smsg, UserWarning)\n"
     ]
    },
    {
     "data": {
      "text/html": [
       "<style>#sk-container-id-2 {color: black;}#sk-container-id-2 pre{padding: 0;}#sk-container-id-2 div.sk-toggleable {background-color: white;}#sk-container-id-2 label.sk-toggleable__label {cursor: pointer;display: block;width: 100%;margin-bottom: 0;padding: 0.3em;box-sizing: border-box;text-align: center;}#sk-container-id-2 label.sk-toggleable__label-arrow:before {content: \"▸\";float: left;margin-right: 0.25em;color: #696969;}#sk-container-id-2 label.sk-toggleable__label-arrow:hover:before {color: black;}#sk-container-id-2 div.sk-estimator:hover label.sk-toggleable__label-arrow:before {color: black;}#sk-container-id-2 div.sk-toggleable__content {max-height: 0;max-width: 0;overflow: hidden;text-align: left;background-color: #f0f8ff;}#sk-container-id-2 div.sk-toggleable__content pre {margin: 0.2em;color: black;border-radius: 0.25em;background-color: #f0f8ff;}#sk-container-id-2 input.sk-toggleable__control:checked~div.sk-toggleable__content {max-height: 200px;max-width: 100%;overflow: auto;}#sk-container-id-2 input.sk-toggleable__control:checked~label.sk-toggleable__label-arrow:before {content: \"▾\";}#sk-container-id-2 div.sk-estimator input.sk-toggleable__control:checked~label.sk-toggleable__label {background-color: #d4ebff;}#sk-container-id-2 div.sk-label input.sk-toggleable__control:checked~label.sk-toggleable__label {background-color: #d4ebff;}#sk-container-id-2 input.sk-hidden--visually {border: 0;clip: rect(1px 1px 1px 1px);clip: rect(1px, 1px, 1px, 1px);height: 1px;margin: -1px;overflow: hidden;padding: 0;position: absolute;width: 1px;}#sk-container-id-2 div.sk-estimator {font-family: monospace;background-color: #f0f8ff;border: 1px dotted black;border-radius: 0.25em;box-sizing: border-box;margin-bottom: 0.5em;}#sk-container-id-2 div.sk-estimator:hover {background-color: #d4ebff;}#sk-container-id-2 div.sk-parallel-item::after {content: \"\";width: 100%;border-bottom: 1px solid gray;flex-grow: 1;}#sk-container-id-2 div.sk-label:hover label.sk-toggleable__label {background-color: #d4ebff;}#sk-container-id-2 div.sk-serial::before {content: \"\";position: absolute;border-left: 1px solid gray;box-sizing: border-box;top: 0;bottom: 0;left: 50%;z-index: 0;}#sk-container-id-2 div.sk-serial {display: flex;flex-direction: column;align-items: center;background-color: white;padding-right: 0.2em;padding-left: 0.2em;position: relative;}#sk-container-id-2 div.sk-item {position: relative;z-index: 1;}#sk-container-id-2 div.sk-parallel {display: flex;align-items: stretch;justify-content: center;background-color: white;position: relative;}#sk-container-id-2 div.sk-item::before, #sk-container-id-2 div.sk-parallel-item::before {content: \"\";position: absolute;border-left: 1px solid gray;box-sizing: border-box;top: 0;bottom: 0;left: 50%;z-index: -1;}#sk-container-id-2 div.sk-parallel-item {display: flex;flex-direction: column;z-index: 1;position: relative;background-color: white;}#sk-container-id-2 div.sk-parallel-item:first-child::after {align-self: flex-end;width: 50%;}#sk-container-id-2 div.sk-parallel-item:last-child::after {align-self: flex-start;width: 50%;}#sk-container-id-2 div.sk-parallel-item:only-child::after {width: 0;}#sk-container-id-2 div.sk-dashed-wrapped {border: 1px dashed gray;margin: 0 0.4em 0.5em 0.4em;box-sizing: border-box;padding-bottom: 0.4em;background-color: white;}#sk-container-id-2 div.sk-label label {font-family: monospace;font-weight: bold;display: inline-block;line-height: 1.2em;}#sk-container-id-2 div.sk-label-container {text-align: center;}#sk-container-id-2 div.sk-container {/* jupyter's `normalize.less` sets `[hidden] { display: none; }` but bootstrap.min.css set `[hidden] { display: none !important; }` so we also need the `!important` here to be able to override the default hidden behavior on the sphinx rendered scikit-learn.org. See: https://github.com/scikit-learn/scikit-learn/issues/21755 */display: inline-block !important;position: relative;}#sk-container-id-2 div.sk-text-repr-fallback {display: none;}</style><div id=\"sk-container-id-2\" class=\"sk-top-container\"><div class=\"sk-text-repr-fallback\"><pre>GridSearchCV(cv=5,\n",
       "             estimator=Pipeline(steps=[(&#x27;scale1&#x27;, StandardScaler()),\n",
       "                                       (&#x27;scale2&#x27;, PolynomialFeatures(degree=3)),\n",
       "                                       (&#x27;Regressor&#x27;,\n",
       "                                        XGBRegressor(base_score=None,\n",
       "                                                     booster=&#x27;gblinear&#x27;,\n",
       "                                                     callbacks=None,\n",
       "                                                     colsample_bylevel=None,\n",
       "                                                     colsample_bynode=None,\n",
       "                                                     colsample_bytree=None,\n",
       "                                                     device=None,\n",
       "                                                     early_stopping_rounds=None,\n",
       "                                                     enable_categorical=False,\n",
       "                                                     eval_metric=None,\n",
       "                                                     feature_types=...\n",
       "                                                     min_child_weight=None,\n",
       "                                                     missing=nan,\n",
       "                                                     monotone_constraints=None,\n",
       "                                                     multi_strategy=None,\n",
       "                                                     n_estimators=None,\n",
       "                                                     n_jobs=None,\n",
       "                                                     num_parallel_tree=None,\n",
       "                                                     random_state=None, ...))]),\n",
       "             n_jobs=5,\n",
       "             param_grid={&#x27;Regressor__eta&#x27;: [0.3],\n",
       "                         &#x27;Regressor__eval_metric&#x27;: [&#x27;rmse&#x27;],\n",
       "                         &#x27;Regressor__n_estimators&#x27;: [800],\n",
       "                         &#x27;Regressor__reg_alpha&#x27;: [0.01],\n",
       "                         &#x27;Regressor__reg_lambda&#x27;: [0.03],\n",
       "                         &#x27;Regressor__seed&#x27;: [0]})</pre><b>In a Jupyter environment, please rerun this cell to show the HTML representation or trust the notebook. <br />On GitHub, the HTML representation is unable to render, please try loading this page with nbviewer.org.</b></div><div class=\"sk-container\" hidden><div class=\"sk-item sk-dashed-wrapped\"><div class=\"sk-label-container\"><div class=\"sk-label sk-toggleable\"><input class=\"sk-toggleable__control sk-hidden--visually\" id=\"sk-estimator-id-6\" type=\"checkbox\" ><label for=\"sk-estimator-id-6\" class=\"sk-toggleable__label sk-toggleable__label-arrow\">GridSearchCV</label><div class=\"sk-toggleable__content\"><pre>GridSearchCV(cv=5,\n",
       "             estimator=Pipeline(steps=[(&#x27;scale1&#x27;, StandardScaler()),\n",
       "                                       (&#x27;scale2&#x27;, PolynomialFeatures(degree=3)),\n",
       "                                       (&#x27;Regressor&#x27;,\n",
       "                                        XGBRegressor(base_score=None,\n",
       "                                                     booster=&#x27;gblinear&#x27;,\n",
       "                                                     callbacks=None,\n",
       "                                                     colsample_bylevel=None,\n",
       "                                                     colsample_bynode=None,\n",
       "                                                     colsample_bytree=None,\n",
       "                                                     device=None,\n",
       "                                                     early_stopping_rounds=None,\n",
       "                                                     enable_categorical=False,\n",
       "                                                     eval_metric=None,\n",
       "                                                     feature_types=...\n",
       "                                                     min_child_weight=None,\n",
       "                                                     missing=nan,\n",
       "                                                     monotone_constraints=None,\n",
       "                                                     multi_strategy=None,\n",
       "                                                     n_estimators=None,\n",
       "                                                     n_jobs=None,\n",
       "                                                     num_parallel_tree=None,\n",
       "                                                     random_state=None, ...))]),\n",
       "             n_jobs=5,\n",
       "             param_grid={&#x27;Regressor__eta&#x27;: [0.3],\n",
       "                         &#x27;Regressor__eval_metric&#x27;: [&#x27;rmse&#x27;],\n",
       "                         &#x27;Regressor__n_estimators&#x27;: [800],\n",
       "                         &#x27;Regressor__reg_alpha&#x27;: [0.01],\n",
       "                         &#x27;Regressor__reg_lambda&#x27;: [0.03],\n",
       "                         &#x27;Regressor__seed&#x27;: [0]})</pre></div></div></div><div class=\"sk-parallel\"><div class=\"sk-parallel-item\"><div class=\"sk-item\"><div class=\"sk-label-container\"><div class=\"sk-label sk-toggleable\"><input class=\"sk-toggleable__control sk-hidden--visually\" id=\"sk-estimator-id-7\" type=\"checkbox\" ><label for=\"sk-estimator-id-7\" class=\"sk-toggleable__label sk-toggleable__label-arrow\">estimator: Pipeline</label><div class=\"sk-toggleable__content\"><pre>Pipeline(steps=[(&#x27;scale1&#x27;, StandardScaler()),\n",
       "                (&#x27;scale2&#x27;, PolynomialFeatures(degree=3)),\n",
       "                (&#x27;Regressor&#x27;,\n",
       "                 XGBRegressor(base_score=None, booster=&#x27;gblinear&#x27;,\n",
       "                              callbacks=None, colsample_bylevel=None,\n",
       "                              colsample_bynode=None, colsample_bytree=None,\n",
       "                              device=None, early_stopping_rounds=None,\n",
       "                              enable_categorical=False, eval_metric=None,\n",
       "                              feature_types=None, gamma=None, grow_policy=None,\n",
       "                              importance_type=None,\n",
       "                              interaction_constraints=None, learning_rate=None,\n",
       "                              max_bin=None, max_cat_threshold=None,\n",
       "                              max_cat_to_onehot=None, max_delta_step=None,\n",
       "                              max_depth=None, max_leaves=None,\n",
       "                              min_child_weight=None, missing=nan,\n",
       "                              monotone_constraints=None, multi_strategy=None,\n",
       "                              n_estimators=None, n_jobs=None,\n",
       "                              num_parallel_tree=None, random_state=None, ...))])</pre></div></div></div><div class=\"sk-serial\"><div class=\"sk-item\"><div class=\"sk-serial\"><div class=\"sk-item\"><div class=\"sk-estimator sk-toggleable\"><input class=\"sk-toggleable__control sk-hidden--visually\" id=\"sk-estimator-id-8\" type=\"checkbox\" ><label for=\"sk-estimator-id-8\" class=\"sk-toggleable__label sk-toggleable__label-arrow\">StandardScaler</label><div class=\"sk-toggleable__content\"><pre>StandardScaler()</pre></div></div></div><div class=\"sk-item\"><div class=\"sk-estimator sk-toggleable\"><input class=\"sk-toggleable__control sk-hidden--visually\" id=\"sk-estimator-id-9\" type=\"checkbox\" ><label for=\"sk-estimator-id-9\" class=\"sk-toggleable__label sk-toggleable__label-arrow\">PolynomialFeatures</label><div class=\"sk-toggleable__content\"><pre>PolynomialFeatures(degree=3)</pre></div></div></div><div class=\"sk-item\"><div class=\"sk-estimator sk-toggleable\"><input class=\"sk-toggleable__control sk-hidden--visually\" id=\"sk-estimator-id-10\" type=\"checkbox\" ><label for=\"sk-estimator-id-10\" class=\"sk-toggleable__label sk-toggleable__label-arrow\">XGBRegressor</label><div class=\"sk-toggleable__content\"><pre>XGBRegressor(base_score=None, booster=&#x27;gblinear&#x27;, callbacks=None,\n",
       "             colsample_bylevel=None, colsample_bynode=None,\n",
       "             colsample_bytree=None, device=None, early_stopping_rounds=None,\n",
       "             enable_categorical=False, eval_metric=None, feature_types=None,\n",
       "             gamma=None, grow_policy=None, importance_type=None,\n",
       "             interaction_constraints=None, learning_rate=None, max_bin=None,\n",
       "             max_cat_threshold=None, max_cat_to_onehot=None,\n",
       "             max_delta_step=None, max_depth=None, max_leaves=None,\n",
       "             min_child_weight=None, missing=nan, monotone_constraints=None,\n",
       "             multi_strategy=None, n_estimators=None, n_jobs=None,\n",
       "             num_parallel_tree=None, random_state=None, ...)</pre></div></div></div></div></div></div></div></div></div></div></div></div>"
      ],
      "text/plain": [
       "GridSearchCV(cv=5,\n",
       "             estimator=Pipeline(steps=[('scale1', StandardScaler()),\n",
       "                                       ('scale2', PolynomialFeatures(degree=3)),\n",
       "                                       ('Regressor',\n",
       "                                        XGBRegressor(base_score=None,\n",
       "                                                     booster='gblinear',\n",
       "                                                     callbacks=None,\n",
       "                                                     colsample_bylevel=None,\n",
       "                                                     colsample_bynode=None,\n",
       "                                                     colsample_bytree=None,\n",
       "                                                     device=None,\n",
       "                                                     early_stopping_rounds=None,\n",
       "                                                     enable_categorical=False,\n",
       "                                                     eval_metric=None,\n",
       "                                                     feature_types=...\n",
       "                                                     min_child_weight=None,\n",
       "                                                     missing=nan,\n",
       "                                                     monotone_constraints=None,\n",
       "                                                     multi_strategy=None,\n",
       "                                                     n_estimators=None,\n",
       "                                                     n_jobs=None,\n",
       "                                                     num_parallel_tree=None,\n",
       "                                                     random_state=None, ...))]),\n",
       "             n_jobs=5,\n",
       "             param_grid={'Regressor__eta': [0.3],\n",
       "                         'Regressor__eval_metric': ['rmse'],\n",
       "                         'Regressor__n_estimators': [800],\n",
       "                         'Regressor__reg_alpha': [0.01],\n",
       "                         'Regressor__reg_lambda': [0.03],\n",
       "                         'Regressor__seed': [0]})"
      ]
     },
     "execution_count": 40,
     "metadata": {},
     "output_type": "execute_result"
    }
   ],
   "source": [
    "grid.fit(X_train, y_train)"
   ]
  },
  {
   "cell_type": "markdown",
   "metadata": {},
   "source": [
    "Inspect the results obtained from grid"
   ]
  },
  {
   "cell_type": "code",
   "execution_count": 41,
   "metadata": {},
   "outputs": [
    {
     "data": {
      "text/html": [
       "<div>\n",
       "<style scoped>\n",
       "    .dataframe tbody tr th:only-of-type {\n",
       "        vertical-align: middle;\n",
       "    }\n",
       "\n",
       "    .dataframe tbody tr th {\n",
       "        vertical-align: top;\n",
       "    }\n",
       "\n",
       "    .dataframe thead th {\n",
       "        text-align: right;\n",
       "    }\n",
       "</style>\n",
       "<table border=\"1\" class=\"dataframe\">\n",
       "  <thead>\n",
       "    <tr style=\"text-align: right;\">\n",
       "      <th></th>\n",
       "      <th>mean_fit_time</th>\n",
       "      <th>std_fit_time</th>\n",
       "      <th>mean_score_time</th>\n",
       "      <th>std_score_time</th>\n",
       "      <th>param_Regressor__eta</th>\n",
       "      <th>param_Regressor__eval_metric</th>\n",
       "      <th>param_Regressor__n_estimators</th>\n",
       "      <th>param_Regressor__reg_alpha</th>\n",
       "      <th>param_Regressor__reg_lambda</th>\n",
       "      <th>param_Regressor__seed</th>\n",
       "      <th>params</th>\n",
       "      <th>split0_test_score</th>\n",
       "      <th>split1_test_score</th>\n",
       "      <th>split2_test_score</th>\n",
       "      <th>split3_test_score</th>\n",
       "      <th>split4_test_score</th>\n",
       "      <th>mean_test_score</th>\n",
       "      <th>std_test_score</th>\n",
       "      <th>rank_test_score</th>\n",
       "    </tr>\n",
       "  </thead>\n",
       "  <tbody>\n",
       "    <tr>\n",
       "      <th>0</th>\n",
       "      <td>95.797613</td>\n",
       "      <td>1.925248</td>\n",
       "      <td>0.117933</td>\n",
       "      <td>0.006629</td>\n",
       "      <td>0.3</td>\n",
       "      <td>rmse</td>\n",
       "      <td>800</td>\n",
       "      <td>0.01</td>\n",
       "      <td>0.03</td>\n",
       "      <td>0</td>\n",
       "      <td>{'Regressor__eta': 0.3, 'Regressor__eval_metri...</td>\n",
       "      <td>0.932724</td>\n",
       "      <td>0.934763</td>\n",
       "      <td>0.933857</td>\n",
       "      <td>0.934459</td>\n",
       "      <td>0.933741</td>\n",
       "      <td>0.933909</td>\n",
       "      <td>0.000702</td>\n",
       "      <td>1</td>\n",
       "    </tr>\n",
       "  </tbody>\n",
       "</table>\n",
       "</div>"
      ],
      "text/plain": [
       "   mean_fit_time  std_fit_time  mean_score_time  std_score_time  \\\n",
       "0      95.797613      1.925248         0.117933        0.006629   \n",
       "\n",
       "  param_Regressor__eta param_Regressor__eval_metric  \\\n",
       "0                  0.3                         rmse   \n",
       "\n",
       "  param_Regressor__n_estimators param_Regressor__reg_alpha  \\\n",
       "0                           800                       0.01   \n",
       "\n",
       "  param_Regressor__reg_lambda param_Regressor__seed  \\\n",
       "0                        0.03                     0   \n",
       "\n",
       "                                              params  split0_test_score  \\\n",
       "0  {'Regressor__eta': 0.3, 'Regressor__eval_metri...           0.932724   \n",
       "\n",
       "   split1_test_score  split2_test_score  split3_test_score  split4_test_score  \\\n",
       "0           0.934763           0.933857           0.934459           0.933741   \n",
       "\n",
       "   mean_test_score  std_test_score  rank_test_score  \n",
       "0         0.933909        0.000702                1  "
      ]
     },
     "execution_count": 41,
     "metadata": {},
     "output_type": "execute_result"
    }
   ],
   "source": [
    "pd.DataFrame(grid.cv_results_)"
   ]
  },
  {
   "cell_type": "markdown",
   "metadata": {},
   "source": [
    "Calculate the $R^2$ value between <b>y_test</b> and <b>y_pred</b>"
   ]
  },
  {
   "cell_type": "code",
   "execution_count": 42,
   "metadata": {},
   "outputs": [
    {
     "name": "stdout",
     "output_type": "stream",
     "text": [
      " Rsquared value is 0.9358028263036899\n"
     ]
    },
    {
     "data": {
      "text/plain": [
       "[Text(0.5, 0, '$y_{test}$'), Text(0, 0.5, '$y_{pred}$')]"
      ]
     },
     "execution_count": 42,
     "metadata": {},
     "output_type": "execute_result"
    },
    {
     "data": {
      "image/png": "[encoded data removed]",
      "text/plain": [
       "<Figure size 640x480 with 1 Axes>"
      ]
     },
     "metadata": {},
     "output_type": "display_data"
    }
   ],
   "source": [
    "print(\" Rsquared value is \" + f'{r2_score(y_test,grid.best_estimator_.predict(X_test))}')\n",
    "ax = sns.regplot(x = y_test, y = grid.best_estimator_.predict(X_test))\n",
    "ax.set(xlabel = r\"$y_{test}$\", ylabel = r\"$y_{pred}$\")\n"
   ]
  },
  {
   "cell_type": "markdown",
   "metadata": {},
   "source": [
    "#### Save the XGboost model using <b>joblib</b>"
   ]
  },
  {
   "cell_type": "code",
   "execution_count": 46,
   "metadata": {},
   "outputs": [
    {
     "data": {
      "text/plain": [
       "['xgboost_reg']"
      ]
     },
     "execution_count": 46,
     "metadata": {},
     "output_type": "execute_result"
    }
   ],
   "source": [
    "joblib.dump(grid.best_estimator_, \"xgboost_reg\")"
   ]
  },
  {
   "cell_type": "markdown",
   "metadata": {},
   "source": [
    "#### Test the models with a random example to inspect the difference between them"
   ]
  },
  {
   "cell_type": "code",
   "execution_count": 61,
   "metadata": {},
   "outputs": [
    {
     "name": "stdout",
     "output_type": "stream",
     "text": [
      "[0.74873626] [0.9082264]\n"
     ]
    }
   ],
   "source": [
    "te_st = pd.DataFrame(np.array([[0,30,17,30,0,60,15]]), columns= list(x_data_1.columns))\n",
    "\n",
    "model = joblib.load(\"Ann_model_slopes\")\n",
    "rgb_model = joblib.load(\"xgboost_reg\")\n",
    "\n",
    "print(rgb_model.predict(te_st), model.predict(te_st))"
   ]
  },
  {
   "cell_type": "markdown",
   "metadata": {},
   "source": [
    "Establishing an optimization process to calculate $P_{s}$ by establishing a $FS$ objective of 1.5"
   ]
  },
  {
   "cell_type": "code",
   "execution_count": 65,
   "metadata": {},
   "outputs": [
    {
     "name": "stdout",
     "output_type": "stream",
     "text": [
      "Generation 0 has ChiSquare: 0.0003556013\n",
      "Generation 10 has ChiSquare: 5.9604645e-06\n",
      "Generation 20 has ChiSquare: 1.1920929e-07\n",
      "Generation 30 has ChiSquare: 0.0\n",
      "STOP(\"ChangeOverGeneration with {'tolerance': 0.005, 'generations': 30}\")\n"
     ]
    }
   ],
   "source": [
    "def obj_func(x):\n",
    "    te_st = pd.DataFrame(np.array([[0,30,17,50,x[0],75,10]]), columns= list(x_data_1.columns))\n",
    "    return abs(rgb_model.predict(te_st)-1.5)\n",
    "\n",
    "x0 = [35]\n",
    "bds = [(30,50)]\n",
    "\n",
    "\n",
    "from mystic.solvers import diffev2\n",
    "from mystic.math import almostEqual\n",
    "from mystic.monitors import VerboseMonitor\n",
    "mon = VerboseMonitor(10)\n",
    "\n",
    "result = diffev2(obj_func, x0=bds, npop=40,  gtol=30, disp=False, full_output=True, itermon=mon)"
   ]
  },
  {
   "cell_type": "code",
   "execution_count": 69,
   "metadata": {},
   "outputs": [
    {
     "name": "stdout",
     "output_type": "stream",
     "text": [
      "The pressure needed for equilibrium is: [45.67362749] With a FS obj of:(array([1.5], dtype=float32), array([1.7116208], dtype=float32))\n"
     ]
    }
   ],
   "source": [
    "x = result[0]\n",
    "te_st =  pd.DataFrame(np.array([[0,30,17,50,x[0],75,10]]), columns= list(x_data_1.columns))\n",
    "model.predict(te_st)\n",
    "\n",
    "print(\"The pressure needed for equilibrium is: \" f'{result[0]}',\"With a FS obj of:\" f'{rgb_model.predict(te_st),model.predict(te_st)}')"
   ]
  }
 ],
 "metadata": {
  "kernelspec": {
   "display_name": "TradeEnv2",
   "language": "python",
   "name": "python3"
  },
  "language_info": {
   "codemirror_mode": {
    "name": "ipython",
    "version": 3
   },
   "file_extension": ".py",
   "mimetype": "text/x-python",
   "name": "python",
   "nbconvert_exporter": "python",
   "pygments_lexer": "ipython3",
   "version": "3.11.4"
  }
 },
 "nbformat": 4,
 "nbformat_minor": 2
}
