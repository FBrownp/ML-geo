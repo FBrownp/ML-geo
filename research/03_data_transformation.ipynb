{
 "cells": [
  {
   "cell_type": "code",
   "execution_count": 18,
   "metadata": {},
   "outputs": [],
   "source": [
    "import os"
   ]
  },
  {
   "cell_type": "code",
   "execution_count": 19,
   "metadata": {},
   "outputs": [
    {
     "data": {
      "text/plain": [
       "'d:\\\\Repositories\\\\ML-geo'"
      ]
     },
     "execution_count": 19,
     "metadata": {},
     "output_type": "execute_result"
    }
   ],
   "source": [
    "%pwd"
   ]
  },
  {
   "cell_type": "code",
   "execution_count": 20,
   "metadata": {},
   "outputs": [],
   "source": [
    "os.chdir(\"d:/Repositories/ML-geo/\")"
   ]
  },
  {
   "cell_type": "code",
   "execution_count": 37,
   "metadata": {},
   "outputs": [],
   "source": [
    "from dataclasses import dataclass\n",
    "from pathlib import Path\n",
    "\n",
    "@dataclass(frozen=True)\n",
    "class DataTransformationConfig:\n",
    "    root_dir: Path\n",
    "    data_path: Path\n",
    "    transformation_path: Path"
   ]
  },
  {
   "cell_type": "code",
   "execution_count": 22,
   "metadata": {},
   "outputs": [],
   "source": [
    "from XGboost_for_slopes.constants import *\n",
    "from XGboost_for_slopes.utils.common import read_yaml, create_directories"
   ]
  },
  {
   "cell_type": "code",
   "execution_count": 38,
   "metadata": {},
   "outputs": [],
   "source": [
    "class ConfigurationManager:\n",
    "    def __init__(self,\n",
    "                 config_filepath = CONFIG_FILE_PATH,\n",
    "                 params_filepath = PARAMS_FILE_PATH,\n",
    "                 schema_filepath = SCHEMA_FILE_PATH):\n",
    "        self.config = read_yaml(config_filepath)\n",
    "        self.params = read_yaml(params_filepath)\n",
    "        self.schema = read_yaml(schema_filepath)\n",
    "        create_directories([self.config.artifacts_root])\n",
    "\n",
    "\n",
    "    def get_data_transformation_config(self) -> DataTransformationConfig:\n",
    "        config = self.config.data_transformation\n",
    "\n",
    "        create_directories([config.root_dir])\n",
    "\n",
    "        data_transformation_config = DataTransformationConfig(\n",
    "            root_dir=config.root_dir,\n",
    "            data_path=config.data_path,\n",
    "            transformation_path= config.transformation_path\n",
    "            )\n",
    "        return data_transformation_config"
   ]
  },
  {
   "cell_type": "code",
   "execution_count": 39,
   "metadata": {},
   "outputs": [],
   "source": [
    "import os \n",
    "from XGboost_for_slopes import logger\n",
    "import pandas as pd\n",
    "from sklearn.pipeline import Pipeline\n",
    "from sklearn.preprocessing import StandardScaler,PolynomialFeatures\n",
    "from sklearn.impute import SimpleImputer\n",
    "from sklearn.model_selection import GridSearchCV, train_test_split\n",
    "import dill\n",
    "from src.XGboost_for_slopes.utils.common import save_object"
   ]
  },
  {
   "cell_type": "code",
   "execution_count": 45,
   "metadata": {},
   "outputs": [],
   "source": [
    "class DataTransformation():\n",
    "    def __init__(self, config: DataTransformationConfig):\n",
    "        self.config = config\n",
    "\n",
    "    def get_data_transformer_object(self):\n",
    "\n",
    "        \"\"\"\n",
    "        This function is responsible for data transformation\n",
    "        \"\"\"\n",
    "        try:\n",
    "\n",
    "            num_Pipeline = Pipeline(\n",
    "                steps=[\n",
    "                (\"imputer\", SimpleImputer(strategy=\"median\") ),\n",
    "                (\"scaler\", StandardScaler()),\n",
    "                (\"polynomial-scaler\", PolynomialFeatures(degree=2))\n",
    "                ])\n",
    "            logger.info(\"Data Transformation file created\")\n",
    "\n",
    "            return num_Pipeline\n",
    "        except Exception as e:\n",
    "            raise e\n",
    "\n",
    "    def get_train_test_data(self):\n",
    "        data = pd.read_csv(self.config.data_path)\n",
    "        data = data[data[\"FSs\"] < 3] # Engineers recommendation\n",
    "        train, test = train_test_split(data,test_size=0.3)\n",
    "        train.to_csv(os.path.join(self.config.root_dir, \"train.csv\"), index= False)\n",
    "        test.to_csv(os.path.join(self.config.root_dir, \"test.csv\"), index= False)\n",
    "\n",
    "        logger.info(\"Splitted data into training and test sets\")\n",
    "        logger.info(train.shape)\n",
    "        logger.info(test.shape)\n",
    "        \n",
    "    def initiate_data_transformation(self):\n",
    "        try:\n",
    "\n",
    "            logger.info(\"Obtaining preprocessing object\")\n",
    "\n",
    "            preprocessing_obj = self.get_data_transformer_object()\n",
    "            save_object(self.config.transformation_path, preprocessing_obj)\n",
    "            \n",
    "        except:\n",
    "            pass"
   ]
  },
  {
   "cell_type": "code",
   "execution_count": 33,
   "metadata": {},
   "outputs": [],
   "source": [
    "def save_object(file_path, obj):\n",
    "    try:\n",
    "        dir_path= os.path.dirname(file_path)\n",
    "        os.makedirs(dir_path, exist_ok=True)\n",
    "\n",
    "        with open(file_path, \"wb\") as file_obj:\n",
    "            dill.dump(obj, file_obj)\n",
    "\n",
    "    except Exception as e:\n",
    "        raise e\n",
    "    \n"
   ]
  },
  {
   "cell_type": "code",
   "execution_count": 44,
   "metadata": {},
   "outputs": [
    {
     "name": "stdout",
     "output_type": "stream",
     "text": [
      "[2023-12-07 01:24:12,822: INFO: common: yaml file: config\\config.yaml loaded successfully]\n",
      "[2023-12-07 01:24:12,824: INFO: common: yaml file: params.yaml loaded successfully]\n",
      "[2023-12-07 01:24:12,826: INFO: common: yaml file: schema.yaml loaded successfully]\n",
      "[2023-12-07 01:24:12,827: INFO: common: created directory at: artifacts]\n",
      "[2023-12-07 01:24:12,828: INFO: common: created directory at: artifacts/data_transformation]\n",
      "[2023-12-07 01:24:13,209: INFO: 674148994: Splitted data into training and test sets]\n",
      "[2023-12-07 01:24:13,210: INFO: 674148994: (38500, 9)]\n",
      "[2023-12-07 01:24:13,211: INFO: 674148994: (16500, 9)]\n",
      "[2023-12-07 01:24:13,212: INFO: 674148994: Obtaining preprocessing object]\n",
      "[2023-12-07 01:24:13,212: INFO: 674148994: Columns standard scaling completed]\n"
     ]
    }
   ],
   "source": [
    "try:\n",
    "    config = ConfigurationManager()\n",
    "    data_transformation_config = config.get_data_transformation_config()\n",
    "    data_transformation = DataTransformation(config = data_transformation_config)\n",
    "    data_transformation.get_train_test_data()\n",
    "    data_transformation.initiate_data_transformation()\n",
    "\n",
    "except Exception as e:\n",
    "    raise e"
   ]
  },
  {
   "cell_type": "code",
   "execution_count": null,
   "metadata": {},
   "outputs": [],
   "source": []
  }
 ],
 "metadata": {
  "kernelspec": {
   "display_name": "venv",
   "language": "python",
   "name": "python3"
  },
  "language_info": {
   "codemirror_mode": {
    "name": "ipython",
    "version": 3
   },
   "file_extension": ".py",
   "mimetype": "text/x-python",
   "name": "python",
   "nbconvert_exporter": "python",
   "pygments_lexer": "ipython3",
   "version": "3.11.4"
  }
 },
 "nbformat": 4,
 "nbformat_minor": 2
}
