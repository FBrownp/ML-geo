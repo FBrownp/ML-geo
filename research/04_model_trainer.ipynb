{
 "cells": [
  {
   "cell_type": "code",
   "execution_count": 52,
   "metadata": {},
   "outputs": [],
   "source": [
    "import os"
   ]
  },
  {
   "cell_type": "code",
   "execution_count": 53,
   "metadata": {},
   "outputs": [
    {
     "data": {
      "text/plain": [
       "'d:\\\\Repositories\\\\ML-geo'"
      ]
     },
     "execution_count": 53,
     "metadata": {},
     "output_type": "execute_result"
    }
   ],
   "source": [
    "%pwd"
   ]
  },
  {
   "cell_type": "code",
   "execution_count": 54,
   "metadata": {},
   "outputs": [],
   "source": [
    "os.chdir(\"d:/Repositories/ML-geo/\")"
   ]
  },
  {
   "cell_type": "code",
   "execution_count": 55,
   "metadata": {},
   "outputs": [],
   "source": [
    "from dataclasses import dataclass\n",
    "from pathlib import Path\n",
    "\n",
    "@dataclass(frozen=True)\n",
    "class ModelTrainerConfig:\n",
    "    root_dir: Path\n",
    "    train_data_path: Path\n",
    "    test_data_path: Path\n",
    "    transformation_path: Path\n",
    "    model_name_1: str\n",
    "    model_name_2: str\n",
    "    reg_alpha: float\n",
    "    reg_lambda: float\n",
    "    target_column_1: float\n",
    "    target_column_2: float"
   ]
  },
  {
   "cell_type": "code",
   "execution_count": 56,
   "metadata": {},
   "outputs": [],
   "source": [
    "from XGboost_for_slopes.constants import *\n",
    "from XGboost_for_slopes.utils.common import read_yaml, create_directories"
   ]
  },
  {
   "cell_type": "code",
   "execution_count": 57,
   "metadata": {},
   "outputs": [],
   "source": [
    "class ConfigurationManager:\n",
    "    def __init__(self,\n",
    "                 config_filepath = CONFIG_FILE_PATH,\n",
    "                 params_filepath = PARAMS_FILE_PATH,\n",
    "                 schema_filepath = SCHEMA_FILE_PATH):\n",
    "        self.config = read_yaml(config_filepath)\n",
    "        self.params = read_yaml(params_filepath)\n",
    "        self.schema = read_yaml(schema_filepath)\n",
    "        create_directories([self.config.artifacts_root])\n",
    "\n",
    "\n",
    "    def get_model_trainer_config(self) -> ModelTrainerConfig:\n",
    "        config = self.config.model_trainer\n",
    "        params = self.params.Xgboost\n",
    "        schema = self.schema.TARGET_COLUMN\n",
    "\n",
    "        create_directories([config.root_dir])\n",
    "\n",
    "        model_trainer_config = ModelTrainerConfig(\n",
    "            root_dir = config.root_dir,\n",
    "            train_data_path = config.train_data_path,\n",
    "            test_data_path  = config.test_data_path,\n",
    "            transformation_path = config.transformation_path,\n",
    "            model_name_1 = config.model_name_1,\n",
    "            model_name_2 = config.model_name_2,\n",
    "            reg_alpha = params.REG_ALPHA,\n",
    "            reg_lambda= params.REG_LAMBDA,\n",
    "            target_column_1= schema.target_1,\n",
    "            target_column_2= schema.target_2\n",
    "            )\n",
    "        return model_trainer_config\n",
    "    \n",
    "\n"
   ]
  },
  {
   "cell_type": "code",
   "execution_count": 63,
   "metadata": {},
   "outputs": [],
   "source": [
    "import os \n",
    "from XGboost_for_slopes import logger\n",
    "import pandas as pd\n",
    "import xgboost as xgb\n",
    "import joblib\n",
    "from sklearn.pipeline import Pipeline\n",
    "from sklearn.preprocessing import StandardScaler,PolynomialFeatures\n",
    "from sklearn.impute import SimpleImputer\n",
    "from sklearn.metrics import r2_score\n",
    "from XGboost_for_slopes.utils.common import save_json"
   ]
  },
  {
   "cell_type": "code",
   "execution_count": 64,
   "metadata": {},
   "outputs": [],
   "source": [
    "class ModelTrainer():\n",
    "    def __init__(self, config: ModelTrainerConfig):\n",
    "        self.config = config\n",
    "\n",
    "    def get_model_trainer_object(self):\n",
    "\n",
    "        \"\"\"\n",
    "        This function is responsible for training the model\n",
    "        \"\"\"\n",
    "        train_data_df      = pd.read_csv(self.config.train_data_path)\n",
    "        test_data_df      = pd.read_csv(self.config.test_data_path)\n",
    "\n",
    "        Transform_pipeline = joblib.load(self.config.transformation_path)\n",
    "\n",
    "        \n",
    "        y_data_train_1 = train_data_df[self.config.target_column_1]\n",
    "        X_data_train_1 = train_data_df.drop([self.config.target_column_1, self.config.target_column_2], axis = 1)\n",
    "\n",
    "\n",
    "        X_data_train_1 = Transform_pipeline.fit_transform(X_data_train_1)\n",
    "\n",
    "\n",
    "        params_xgb  =  {\"reg_alpha\": self.config.reg_alpha,\n",
    "                        \"reg_lambda\": self.config.reg_lambda}\n",
    "    \n",
    "        xgb_Reg = xgb.XGBRegressor(**params_xgb, booster= \"gblinear\")\n",
    "        xgb_Reg.fit(X_data_train_1,y_data_train_1)\n",
    "\n",
    "\n",
    "        joblib.dump(xgb_Reg, os.path.join(self.config.root_dir,self.config.model_name_1))\n",
    "\n",
    "        logger.info(f\"Model_1 is saved in {os.path.join(self.config.root_dir,self.config.model_name_1)}\")\n",
    "\n",
    "\n",
    "        y_data_train_2 = train_data_df[self.config.target_column_2]\n",
    "        X_data_train_2 = train_data_df.drop([self.config.target_column_1, self.config.target_column_2], axis = 1)\n",
    "\n",
    "\n",
    "        X_data_train_2 = Transform_pipeline.fit_transform(X_data_train_2)\n",
    "    \n",
    "        xgb_Reg = xgb.XGBRegressor(**params_xgb, booster= \"gblinear\")\n",
    "        xgb_Reg.fit(X_data_train_2,y_data_train_2)\n",
    "\n",
    "\n",
    "        joblib.dump(xgb_Reg, os.path.join(self.config.root_dir,self.config.model_name_2))\n",
    "\n",
    "        logger.info(f\"Model_2 is saved in {os.path.join(self.config.root_dir,self.config.model_name_2)}\")\n",
    "\n",
    "\n",
    "        \n",
    "\n",
    "\n",
    "\n",
    "\n",
    "\n"
   ]
  },
  {
   "cell_type": "code",
   "execution_count": 62,
   "metadata": {},
   "outputs": [
    {
     "name": "stdout",
     "output_type": "stream",
     "text": [
      "0.9431403953365518\n"
     ]
    }
   ],
   "source": [
    "train_data_df      = pd.read_csv(\"artifacts/data_transformation/train.csv\")\n",
    "test_data_df       = pd.read_csv(\"artifacts/data_transformation/test.csv\")\n",
    "\n",
    "params_xgb  =  {\"reg_alpha\": 0.01,\n",
    "                \"reg_lambda\": 0.03}\n",
    "\n",
    "Transform_pipeline = joblib.load(\"artifacts/data_transformation/transformation.pkl\")\n",
    "\n",
    "\n",
    "y_data_train_1 = train_data_df[\"FSs\"]\n",
    "X_data_train_1 = train_data_df.drop([\"FSs\",\"FSgmp\"], axis = 1)\n",
    "\n",
    "y_data_test_1 = test_data_df[\"FSs\"]\n",
    "X_data_test_1 = test_data_df.drop([\"FSs\",\"FSgmp\"], axis = 1)\n",
    "\n",
    "X_data_train_1 = Transform_pipeline.fit_transform(X_data_train_1)\n",
    "X_data_test_1  = Transform_pipeline.fit_transform(X_data_test_1)\n",
    "\n",
    "xgb_Reg = xgb.XGBRegressor(**params_xgb, booster = \"gblinear\")\n",
    "\n",
    "\n",
    "xgb_Reg.fit(X_data_train_1,y_data_train_1)\n",
    "r2_value = r2_score(y_data_test_1, xgb_Reg.predict(X_data_test_1))\n",
    "print(r2_value)"
   ]
  },
  {
   "cell_type": "code",
   "execution_count": 65,
   "metadata": {},
   "outputs": [
    {
     "name": "stdout",
     "output_type": "stream",
     "text": [
      "[2023-12-07 12:51:40,897: INFO: common: yaml file: config\\config.yaml loaded successfully]\n",
      "[2023-12-07 12:51:40,898: INFO: common: yaml file: params.yaml loaded successfully]\n",
      "[2023-12-07 12:51:40,902: INFO: common: yaml file: schema.yaml loaded successfully]\n",
      "[2023-12-07 12:51:40,903: INFO: common: created directory at: artifacts]\n",
      "[2023-12-07 12:51:40,905: INFO: common: created directory at: artifacts/model_trainer]\n",
      "[2023-12-07 12:51:41,346: INFO: 4112445815: Model_1 is fitted, r2 score for testing data is: 0.9446852144372012]\n",
      "[2023-12-07 12:51:41,349: INFO: 4112445815: Model_1 is saved in artifacts/model_trainer\\model_1.joblib]\n",
      "[2023-12-07 12:51:41,756: INFO: 4112445815: Model_2 is fitted, r2 score for testing data is: 0.9448023938791724]\n",
      "[2023-12-07 12:51:41,759: INFO: 4112445815: Model_2 is saved in artifacts/model_trainer\\model_2.joblib]\n",
      "[2023-12-07 12:51:41,760: INFO: common: json file saved at: scores.json]\n"
     ]
    }
   ],
   "source": [
    "try:\n",
    "    config = ConfigurationManager()\n",
    "    model_trainer_config = config.get_model_trainer_config()\n",
    "    model_trainer = ModelTrainer(config = model_trainer_config)\n",
    "    model_trainer.get_model_trainer_object()\n",
    "\n",
    "except Exception as e:\n",
    "    raise e"
   ]
  },
  {
   "cell_type": "code",
   "execution_count": null,
   "metadata": {},
   "outputs": [],
   "source": []
  }
 ],
 "metadata": {
  "kernelspec": {
   "display_name": "venv",
   "language": "python",
   "name": "python3"
  },
  "language_info": {
   "codemirror_mode": {
    "name": "ipython",
    "version": 3
   },
   "file_extension": ".py",
   "mimetype": "text/x-python",
   "name": "python",
   "nbconvert_exporter": "python",
   "pygments_lexer": "ipython3",
   "version": "3.11.4"
  }
 },
 "nbformat": 4,
 "nbformat_minor": 2
}
