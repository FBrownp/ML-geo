{
 "cells": [
  {
   "cell_type": "code",
   "execution_count": 50,
   "metadata": {},
   "outputs": [],
   "source": [
    "import os"
   ]
  },
  {
   "cell_type": "code",
   "execution_count": 51,
   "metadata": {},
   "outputs": [
    {
     "data": {
      "text/plain": [
       "'d:\\\\Repositories\\\\ML-geo'"
      ]
     },
     "execution_count": 51,
     "metadata": {},
     "output_type": "execute_result"
    }
   ],
   "source": [
    "%pwd"
   ]
  },
  {
   "cell_type": "code",
   "execution_count": 52,
   "metadata": {},
   "outputs": [],
   "source": [
    "os.chdir(\"d:/Repositories/ML-geo/\")"
   ]
  },
  {
   "cell_type": "code",
   "execution_count": 53,
   "metadata": {},
   "outputs": [],
   "source": [
    "os.environ[\"MLFLOW_TRACKING_URI\"]=\"https://dagshub.com/FBrownp/ML-geo.mlflow\"\n",
    "os.environ[\"MLFLOW_TRACKING_USERNAME\"]=\"FBrownp\"\n",
    "os.environ[\"MLFLOW_TRACKING_PASSWORD\"]=\"cceabdf6d4f5adc126b6cb03cc7cc4bf568e2591\""
   ]
  },
  {
   "cell_type": "code",
   "execution_count": 54,
   "metadata": {},
   "outputs": [],
   "source": [
    "from dataclasses import dataclass\n",
    "from pathlib import Path\n",
    "\n",
    "@dataclass(frozen=True)\n",
    "class ModelEvaluationConfig:\n",
    "    root_dir: Path\n",
    "    test_data_path: Path\n",
    "    model_path: Path\n",
    "    model_name_1: str\n",
    "    model_name_2: str\n",
    "    target_column_1: str \n",
    "    target_column_2: str \n",
    "    mlflow_uri: str\n",
    "    all_params: dict\n",
    "    transformation_path: Path\n",
    "\n"
   ]
  },
  {
   "cell_type": "code",
   "execution_count": 55,
   "metadata": {},
   "outputs": [],
   "source": [
    "from XGboost_for_slopes.constants import *\n",
    "from XGboost_for_slopes.utils.common import read_yaml, create_directories"
   ]
  },
  {
   "cell_type": "code",
   "execution_count": 56,
   "metadata": {},
   "outputs": [],
   "source": [
    "class ConfigurationManager:\n",
    "    def __init__(self,\n",
    "                 config_filepath = CONFIG_FILE_PATH,\n",
    "                 params_filepath = PARAMS_FILE_PATH,\n",
    "                 schema_filepath = SCHEMA_FILE_PATH):\n",
    "        self.config = read_yaml(config_filepath)\n",
    "        self.params = read_yaml(params_filepath)\n",
    "        self.schema = read_yaml(schema_filepath)\n",
    "        create_directories([self.config.artifacts_root])\n",
    "\n",
    "\n",
    "    def get_model_evaluation_config(self) -> ModelEvaluationConfig:\n",
    "        config = self.config.model_evaluation\n",
    "        params = self.params.Xgboost\n",
    "        schema = self.schema.TARGET_COLUMN\n",
    "\n",
    "        create_directories([config.root_dir])\n",
    "\n",
    "        model_evaluation_config = ModelEvaluationConfig(\n",
    "            root_dir = config.root_dir,\n",
    "            test_data_path  = config.test_data_path,\n",
    "            model_path = config.model_path,\n",
    "            model_name_1 = config.model_name_1,\n",
    "            model_name_2 = config.model_name_2,\n",
    "            target_column_1= schema.target_1,\n",
    "            target_column_2= schema.target_2,\n",
    "            mlflow_uri= \"https://dagshub.com/FBrownp/ML-geo.mlflow\",\n",
    "            all_params= params,\n",
    "            transformation_path= config.transformation_path\n",
    "            )\n",
    "        return model_evaluation_config\n",
    "    "
   ]
  },
  {
   "cell_type": "code",
   "execution_count": 57,
   "metadata": {},
   "outputs": [],
   "source": [
    "from sklearn.metrics import r2_score, mean_squared_error, mean_absolute_percentage_error\n",
    "import os \n",
    "from XGboost_for_slopes import logger\n",
    "import pandas as pd\n",
    "import xgboost as xgb\n",
    "import joblib\n",
    "from sklearn.pipeline import Pipeline\n",
    "from sklearn.preprocessing import StandardScaler,PolynomialFeatures\n",
    "from sklearn.impute import SimpleImputer\n",
    "from sklearn.metrics import r2_score\n",
    "from XGboost_for_slopes.utils.common import save_json\n",
    "import mlflow\n",
    "import mlflow.xgboost\n",
    "from  urllib.parse import urlparse"
   ]
  },
  {
   "cell_type": "code",
   "execution_count": 58,
   "metadata": {},
   "outputs": [],
   "source": [
    "class ModelEvaluation():\n",
    "    def __init__(self, config: ModelEvaluationConfig):\n",
    "        self.config = config\n",
    "\n",
    "    def get_model_evaluation_object(self):\n",
    "        \n",
    "        test_data_df      = pd.read_csv(self.config.test_data_path)\n",
    "        \n",
    "        Transform_pipeline = joblib.load(self.config.transformation_path)\n",
    "\n",
    "\n",
    "        y_data_test_1 = test_data_df[self.config.target_column_1]\n",
    "        X_data_test_1 = test_data_df.drop([self.config.target_column_1, self.config.target_column_2], axis = 1)\n",
    "        X_data_test_1  = Transform_pipeline.fit_transform(X_data_test_1)\n",
    "\n",
    "\n",
    "        y_data_test_2 = test_data_df[self.config.target_column_2]\n",
    "        X_data_test_2 = test_data_df.drop([self.config.target_column_1, self.config.target_column_2], axis = 1)\n",
    "        X_data_test_2  = Transform_pipeline.fit_transform(X_data_test_2)\n",
    "\n",
    "\n",
    "        model_1 = joblib.load(os.path.join(self.config.model_path,self.config.model_name_1))\n",
    "        model_2 = joblib.load(os.path.join(self.config.model_path,self.config.model_name_2))\n",
    "\n",
    "\n",
    "        mlflow.set_registry_uri(self.config.mlflow_uri)\n",
    "        tracking_url_type_store = urlparse(mlflow.get_tracking_uri()).scheme\n",
    "\n",
    "        with mlflow.start_run():\n",
    "\n",
    "            r2_value_model_1 = r2_score(y_data_test_1, model_1.predict(X_data_test_1))\n",
    "            MSE_value_model_1 = mean_squared_error(y_data_test_1, model_1.predict(X_data_test_1))\n",
    "            MAPE_value_model_1 = mean_absolute_percentage_error(y_data_test_1, model_1.predict(X_data_test_1))\n",
    "\n",
    "\n",
    "            r2_value_model_2 = r2_score(y_data_test_2, model_2.predict(X_data_test_2))\n",
    "            MSE_value_model_2 = mean_squared_error(y_data_test_2, model_2.predict(X_data_test_2))\n",
    "            MAPE_value_model_2 = mean_absolute_percentage_error(y_data_test_2, model_2.predict(X_data_test_2))\n",
    "\n",
    "            scores = {\"r2_m1\" : r2_value_model_1,\n",
    "                    \"MSE_m1\": MSE_value_model_1,\n",
    "                    \"MAPE_m1\": MAPE_value_model_1,\n",
    "                    \"r2_m2\" : r2_value_model_2,\n",
    "                    \"MSE_m2\": MSE_value_model_2,\n",
    "                    \"MAPE_m2\": MAPE_value_model_2\n",
    "                    }\n",
    "\n",
    "            save_json(path= Path(os.path.join(self.config.root_dir,\"scores.json\")), data = scores)\n",
    "            mlflow.log_params(self.config.all_params)\n",
    "\n",
    "            mlflow.log_metric(\"r2_m1\",r2_value_model_1)\n",
    "            mlflow.log_metric(\"r2_m2\",r2_value_model_2)\n",
    "            mlflow.log_metric(\"MSE_m1\",MSE_value_model_1)\n",
    "            mlflow.log_metric(\"MSE_m2\",MSE_value_model_2)\n",
    "            mlflow.log_metric(\"MAPE_m1\",MAPE_value_model_1)\n",
    "            mlflow.log_metric(\"MAPE_m2\",MAPE_value_model_2)\n",
    "\n",
    "            if tracking_url_type_store != \"file\":\n",
    "                mlflow.xgboost.log_model(model_1, \"model_1\", registered_model_name=\"XGboost_FSs\")\n",
    "                mlflow.xgboost.log_model(model_2, \"model_2\", registered_model_name=\"XGboost_FSgmp\")\n",
    "            else:\n",
    "                mlflow.xgboost.log_model(model_1, \"model_1\")\n",
    "\n"
   ]
  },
  {
   "cell_type": "code",
   "execution_count": 59,
   "metadata": {},
   "outputs": [
    {
     "name": "stdout",
     "output_type": "stream",
     "text": [
      "[2023-12-07 17:01:26,117: INFO: common: yaml file: config\\config.yaml loaded successfully]\n",
      "[2023-12-07 17:01:26,119: INFO: common: yaml file: params.yaml loaded successfully]\n",
      "[2023-12-07 17:01:26,121: INFO: common: yaml file: schema.yaml loaded successfully]\n",
      "[2023-12-07 17:01:26,123: INFO: common: created directory at: artifacts]\n",
      "[2023-12-07 17:01:26,124: INFO: common: created directory at: artifacts/model_evaluation]\n"
     ]
    },
    {
     "name": "stdout",
     "output_type": "stream",
     "text": [
      "[2023-12-07 17:01:26,704: INFO: common: json file saved at: artifacts\\model_evaluation\\scores.json]\n"
     ]
    },
    {
     "name": "stderr",
     "output_type": "stream",
     "text": [
      "d:\\Repositories\\ML-geo\\venv\\Lib\\site-packages\\xgboost\\core.py:160: UserWarning: [17:01:28] WARNING: C:\\buildkite-agent\\builds\\buildkite-windows-cpu-autoscaling-group-i-0750514818a16474a-1\\xgboost\\xgboost-ci-windows\\src\\c_api\\c_api.cc:1240: Saving into deprecated binary model format, please consider using `json` or `ubj`. Model format will default to JSON in XGBoost 2.2 if not specified.\n",
      "  warnings.warn(smsg, UserWarning)\n",
      "Registered model 'XGboost_FSs' already exists. Creating a new version of this model...\n",
      "2023/12/07 17:01:35 INFO mlflow.tracking._model_registry.client: Waiting up to 300 seconds for model version to finish creation.                     Model name: XGboost_FSs, version 3\n",
      "Created version '3' of model 'XGboost_FSs'.\n",
      "d:\\Repositories\\ML-geo\\venv\\Lib\\site-packages\\xgboost\\core.py:160: UserWarning: [17:01:35] WARNING: C:\\buildkite-agent\\builds\\buildkite-windows-cpu-autoscaling-group-i-0750514818a16474a-1\\xgboost\\xgboost-ci-windows\\src\\c_api\\c_api.cc:1240: Saving into deprecated binary model format, please consider using `json` or `ubj`. Model format will default to JSON in XGBoost 2.2 if not specified.\n",
      "  warnings.warn(smsg, UserWarning)\n",
      "Registered model 'XGboost_FSgmp' already exists. Creating a new version of this model...\n",
      "2023/12/07 17:01:41 INFO mlflow.tracking._model_registry.client: Waiting up to 300 seconds for model version to finish creation.                     Model name: XGboost_FSgmp, version 3\n",
      "Created version '3' of model 'XGboost_FSgmp'.\n"
     ]
    }
   ],
   "source": [
    "try:\n",
    "    config = ConfigurationManager()\n",
    "    model_evaluation_config = config.get_model_evaluation_config()\n",
    "    model_evaluation = ModelEvaluation(config = model_evaluation_config)\n",
    "    model_evaluation.get_model_evaluation_object()\n",
    "\n",
    "except Exception as e:\n",
    "    raise e"
   ]
  },
  {
   "cell_type": "code",
   "execution_count": null,
   "metadata": {},
   "outputs": [],
   "source": []
  }
 ],
 "metadata": {
  "kernelspec": {
   "display_name": "venv",
   "language": "python",
   "name": "python3"
  },
  "language_info": {
   "codemirror_mode": {
    "name": "ipython",
    "version": 3
   },
   "file_extension": ".py",
   "mimetype": "text/x-python",
   "name": "python",
   "nbconvert_exporter": "python",
   "pygments_lexer": "ipython3",
   "version": "3.11.4"
  }
 },
 "nbformat": 4,
 "nbformat_minor": 2
}
